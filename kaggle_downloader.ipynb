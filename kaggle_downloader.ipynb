{
  "nbformat": 4,
  "nbformat_minor": 0,
  "metadata": {
    "colab": {
      "name": "kaggle_downloader.ipynb",
      "provenance": [],
      "collapsed_sections": [],
      "mount_file_id": "1vN4BOCF060ZUntliDFgJzy-V5-UxrMWP",
      "authorship_tag": "ABX9TyN7mvkm399MHl9eL+RENZbu"
    },
    "kernelspec": {
      "name": "python3",
      "display_name": "Python 3"
    }
  },
  "cells": [
    {
      "cell_type": "code",
      "metadata": {
        "id": "nojn9vEZ0BuF",
        "colab": {
          "base_uri": "https://localhost:8080/"
        },
        "outputId": "3dd8b9f0-9058-40e2-812d-9c69c4396a94"
      },
      "source": [
        "from pathlib import Path\n",
        "import json\n",
        "%cd /content/sample_data\n",
        "\n",
        "filepath = Path()\n",
        "# kaggle_key = {\"username\":\"\",\"key\":\"\"}\n",
        "\n",
        "with open(f\"{filepath}/kaggle.json\", \"w\") as sample:\n",
        "    json.dump(kaggle_key, sample)\n"
      ],
      "execution_count": 1,
      "outputs": [
        {
          "output_type": "stream",
          "name": "stdout",
          "text": [
            "/content/sample_data\n"
          ]
        }
      ]
    },
    {
      "cell_type": "code",
      "metadata": {
        "colab": {
          "base_uri": "https://localhost:8080/"
        },
        "id": "wGgHyHRCy-dg",
        "outputId": "64d0542d-c6a4-49ae-8300-9580efeced2a"
      },
      "source": [
        "!rm -r ~/.kaggle\n",
        "!mkdir ~/.kaggle\n",
        "!cp /content/sample_data/kaggle.json ~/.kaggle/\n",
        "!chmod 600 /root/.kaggle/kaggle.json\n",
        "\n",
        "!kaggle datasets download -d janiobachmann/bank-marketing-dataset\n",
        "!unzip /content/sample_data/bank-marketing-dataset.zip\n",
        "!rm -rf /content/sample_data/bank-marketing-dataset.zip"
      ],
      "execution_count": 2,
      "outputs": [
        {
          "output_type": "stream",
          "name": "stdout",
          "text": [
            "rm: cannot remove '/root/.kaggle': No such file or directory\n",
            "Downloading bank-marketing-dataset.zip to /content/sample_data\n",
            "  0% 0.00/142k [00:00<?, ?B/s]\n",
            "100% 142k/142k [00:00<00:00, 55.8MB/s]\n",
            "Archive:  /content/sample_data/bank-marketing-dataset.zip\n",
            "  inflating: bank.csv                \n"
          ]
        }
      ]
    }
  ]
}